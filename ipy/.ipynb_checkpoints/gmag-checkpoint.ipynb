{
 "cells": [
  {
   "cell_type": "code",
   "execution_count": 1,
   "metadata": {},
   "outputs": [
    {
     "name": "stdout",
     "output_type": "stream",
     "text": [
      "Populating the interactive namespace from numpy and matplotlib\n"
     ]
    }
   ],
   "source": [
    "import datetime\n",
    "import pandas\n",
    "import seaborn as sns\n",
    "from davitpy import pydarn\n",
    "from davitpy import gme\n",
    "import matplotlib.pyplot as plt\n",
    "from matplotlib.colors import ListedColormap\n",
    "from matplotlib.colors import Normalize\n",
    "from matplotlib import ticker\n",
    "from matplotlib.dates import date2num, DateFormatter, MinuteLocator\n",
    "from matplotlib.ticker import FuncFormatter, MaxNLocator\n",
    "%pylab inline"
   ]
  },
  {
   "cell_type": "code",
   "execution_count": 2,
   "metadata": {
    "collapsed": true
   },
   "outputs": [],
   "source": [
    "startDate = datetime.datetime(2016,7,25,0,0)#datetime.datetime(2011,6,8,2,0)#datetime.datetime(2011,5,16,6,0)#\n",
    "endDate = datetime.datetime(2016,7,25,23,0)#datetime.datetime(2011,6,8,8,0)#datetime.datetime(2011,5,16,12,0)#\n",
    "\n",
    "selDtList = [ datetime.datetime(2016,7,25,4,0),\\\n",
    "             datetime.datetime(2016,7,25,7,0) ]#\n",
    "# [ datetime.datetime(2011,6,8,4,30), datetime.datetime(2011,6,8,4,0), datetime.datetime(2011,6,8,6,0) ]#\n",
    "# [ datetime.datetime(2011,5,16,8,0), datetime.datetime(2011,5,16,8,18),\\\n",
    "#                          datetime.datetime(2011,5,16,9,0) ]#"
   ]
  },
  {
   "cell_type": "code",
   "execution_count": 3,
   "metadata": {
    "collapsed": true
   },
   "outputs": [],
   "source": [
    "def convert_to_datetime(row):\n",
    "    return datetime.datetime( \\\n",
    "        startDate.year, startDate.month,\\\n",
    "        startDate.day, int(row[\"HH\"]), int(row[\"MM\"]) )"
   ]
  },
  {
   "cell_type": "code",
   "execution_count": 4,
   "metadata": {
    "collapsed": true
   },
   "outputs": [],
   "source": [
    "# Read wp index data\n",
    "wpFName = \"../data/wp_\" + startDate.strftime(\"%Y%m%d\") + \".txt\"\n",
    "wpDF = pandas.read_csv(wpFName, delim_whitespace=True)\n",
    "wpDF[\"date\"] = wpDF.apply( convert_to_datetime, axis=1 )"
   ]
  },
  {
   "cell_type": "code",
   "execution_count": 8,
   "metadata": {},
   "outputs": [
    {
     "ename": "TypeError",
     "evalue": "'NoneType' object has no attribute '__getitem__'",
     "output_type": "error",
     "traceback": [
      "\u001b[0;31m---------------------------------------------------------------------------\u001b[0m",
      "\u001b[0;31mTypeError\u001b[0m                                 Traceback (most recent call last)",
      "\u001b[0;32m<ipython-input-8-8d5c7e256083>\u001b[0m in \u001b[0;36m<module>\u001b[0;34m()\u001b[0m\n\u001b[1;32m      6\u001b[0m \u001b[0;31m#Now we do the SYM and ASYM indices...\u001b[0m\u001b[0;34m\u001b[0m\u001b[0;34m\u001b[0m\u001b[0m\n\u001b[1;32m      7\u001b[0m \u001b[0msymasy\u001b[0m\u001b[0;34m=\u001b[0m\u001b[0mgme\u001b[0m\u001b[0;34m.\u001b[0m\u001b[0mind\u001b[0m\u001b[0;34m.\u001b[0m\u001b[0msymasy\u001b[0m\u001b[0;34m.\u001b[0m\u001b[0mreadSymAsy\u001b[0m\u001b[0;34m(\u001b[0m        \u001b[0msTime\u001b[0m\u001b[0;34m=\u001b[0m\u001b[0mstartDate\u001b[0m\u001b[0;34m,\u001b[0m \u001b[0meTime\u001b[0m\u001b[0;34m=\u001b[0m\u001b[0mendDate\u001b[0m\u001b[0;34m,\u001b[0m        \u001b[0msymh\u001b[0m\u001b[0;34m=\u001b[0m\u001b[0mNone\u001b[0m\u001b[0;34m,\u001b[0m \u001b[0msymd\u001b[0m\u001b[0;34m=\u001b[0m\u001b[0mNone\u001b[0m\u001b[0;34m,\u001b[0m \u001b[0masyh\u001b[0m\u001b[0;34m=\u001b[0m\u001b[0mNone\u001b[0m\u001b[0;34m,\u001b[0m        \u001b[0masyd\u001b[0m\u001b[0;34m=\u001b[0m\u001b[0mNone\u001b[0m\u001b[0;34m)\u001b[0m\u001b[0;34m\u001b[0m\u001b[0m\n\u001b[0;32m----> 8\u001b[0;31m \u001b[0;32mprint\u001b[0m \u001b[0msymasy\u001b[0m\u001b[0;34m[\u001b[0m\u001b[0;36m0\u001b[0m\u001b[0;34m]\u001b[0m\u001b[0;34m\u001b[0m\u001b[0m\n\u001b[0m\u001b[1;32m      9\u001b[0m \u001b[0;31m# convert to dataframes\u001b[0m\u001b[0;34m\u001b[0m\u001b[0;34m\u001b[0m\u001b[0m\n\u001b[1;32m     10\u001b[0m omnDF = pandas.DataFrame( {'date' : [ omnData[x].time for x in range(len(omnData))],\n",
      "\u001b[0;31mTypeError\u001b[0m: 'NoneType' object has no attribute '__getitem__'"
     ]
    }
   ],
   "source": [
    "# read data from different sources\n",
    "# OMNI data\n",
    "omnData=gme.ind.omni.readOmni(startDate, endDate)\n",
    "# AE data\n",
    "aeData=gme.ind.readAe(startDate, endDate, res=1)\n",
    "#Now we do the SYM and ASYM indices...\n",
    "symasy=gme.ind.symasy.readSymAsy(\\\n",
    "        sTime=startDate, eTime=endDate,\\\n",
    "        symh=None, symd=None, asyh=None,\\\n",
    "        asyd=None)\n",
    "# convert to dataframes\n",
    "omnDF = pandas.DataFrame( {'date' : [ omnData[x].time for x in range(len(omnData))],\n",
    "                           'ief' : [ omnData[x].e for x in range(len(omnData))],\n",
    "                          'Bz' : [ omnData[x].bzm for x in range(len(omnData))] } )\n",
    "# aeDF = pandas.DataFrame( {'date' : [ aeData[x].time for x in range(len(aeData))],\n",
    "#                            'ae' : [ aeData[x].ae for x in range(len(aeData))],\n",
    "#                           'ao' : [ aeData[x].ao for x in range(len(aeData))],\n",
    "#                           'au' : [ aeData[x].au for x in range(len(aeData))],\n",
    "#                           'al' : [ aeData[x].al for x in range(len(aeData))] } )\n",
    "# symDF = pandas.DataFrame( {'date' : [ symasy[x].time for x in range(len(symasy))],\n",
    "#                            'symh' : [ symasy[x].symh for x in range(len(symasy))],\n",
    "#                           'asyh' : [ symasy[x].asyh for x in range(len(symasy))],\n",
    "#                           'symd' : [ symasy[x].symd for x in range(len(symasy))],\n",
    "#                           'asyd' : [ symasy[x].asyd for x in range(len(symasy))] } )"
   ]
  },
  {
   "cell_type": "code",
   "execution_count": null,
   "metadata": {},
   "outputs": [],
   "source": [
    "# Setup Fig\n",
    "sns.set_style(\"whitegrid\")\n",
    "sns.set_context(\"poster\")\n",
    "f = plt.figure(figsize=(12, 8))\n",
    "f, axArr = plt.subplots(6, sharex=True)\n",
    "axArr[0].plot(omnDF[\"date\"].values, omnDF[\"Bz\"].values, color='firebrick')\n",
    "# axArr[1].plot(aeDF[\"date\"].values, aeDF[\"ae\"].values)\n",
    "# axArr[2].plot(aeDF[\"date\"].values, aeDF[\"al\"].values, color='firebrick', label=\"AL\")\n",
    "# axArr[2].plot(aeDF[\"date\"].values, aeDF[\"au\"].values, label=\"AU\")\n",
    "# axArr[3].plot(symDF[\"date\"].values, symDF[\"asyh\"].values, color='firebrick', label=\"Asym-H\")\n",
    "# axArr[3].plot(symDF[\"date\"].values, symDF[\"symh\"].values, label=\"Sym-H\")\n",
    "# axArr[4].plot(symDF[\"date\"].values, symDF[\"asyd\"].values, color='firebrick', label=\"Asym-D\")\n",
    "# axArr[4].plot(symDF[\"date\"].values, symDF[\"symd\"].values, label=\"Sym-D\")\n",
    "axArr[5].plot(wpDF[\"date\"].values, wpDF[\"Wp\"].values, label=\"Sym-D\")\n",
    "\n",
    "# ax labels\n",
    "axArr[0].set_ylabel(\"IMF Bz [nT]\", fontsize=14)\n",
    "axArr[1].set_ylabel(\"AE-Index\", fontsize=14)\n",
    "axArr[2].set_ylabel(\"AL/AU\", fontsize=14)\n",
    "axArr[3].set_ylabel(\"SymH/AsyH\", fontsize=14)\n",
    "axArr[4].set_ylabel(\"SymD/AsyD\", fontsize=14)\n",
    "axArr[5].set_ylabel(\"Wp Index\", fontsize=14)\n",
    "# x-label\n",
    "axArr[5].set_xlabel(\"TIME (UT)\", fontsize=14)\n",
    "\n",
    "# format the axes\n",
    "axArr[0].set_xlim( [startDate, endDate] )\n",
    "axArr[1].set_xlim( [startDate, endDate] )\n",
    "axArr[2].set_xlim( [startDate, endDate] )\n",
    "axArr[3].set_xlim( [startDate, endDate] )\n",
    "\n",
    "axArr[0].get_xaxis().set_major_formatter(DateFormatter('%H:%M'))\n",
    "axArr[1].get_xaxis().set_major_formatter(DateFormatter('%H:%M'))\n",
    "axArr[2].get_xaxis().set_major_formatter(DateFormatter('%H:%M'))\n",
    "axArr[3].get_xaxis().set_major_formatter(DateFormatter('%H:%M'))\n",
    "axArr[4].get_xaxis().set_major_formatter(DateFormatter('%H:%M'))\n",
    "axArr[5].get_xaxis().set_major_formatter(DateFormatter('%H:%M'))\n",
    "\n",
    "# set y limits\n",
    "# axArr[1].set_ylim( [0, 1000] )\n",
    "# if startDate.strftime(\"%Y%m%d\") == \"20110516\":\n",
    "#     axArr[2].set_ylim( [-600, 600] )\n",
    "# else:\n",
    "#     axArr[2].set_ylim( [-750, 750] )\n",
    "# axArr[3].set_ylim( [-60, 60] )\n",
    "\n",
    "# plot legend\n",
    "axArr[2].legend( bbox_to_anchor=(0., 1.02, 1., .102), loc=1, ncol=2, borderaxespad=0.1 )\n",
    "axArr[3].legend( bbox_to_anchor=(0., 1.02, 1., .102), loc=1, ncol=2, borderaxespad=0.1 )\n",
    "axArr[4].legend( bbox_to_anchor=(0., 1.02, 1., .102), loc=1, ncol=2, borderaxespad=0.1 )\n",
    "\n",
    "# plot vertical lines\n",
    "for sd in selDtList:\n",
    "    for axx in axArr:\n",
    "#     axx.plot( [sd, sd], list(axx.get_ylim()), c='k' )\n",
    "        axx.axvline( x=sd, c='k', linestyle=\":\", linewidth=3. )\n",
    "\n",
    "f.savefig( \"../plots/gmag-\" + startDate.strftime(\"%Y%m%d\") + \".eps\",bbox_inches='tight' )"
   ]
  },
  {
   "cell_type": "code",
   "execution_count": null,
   "metadata": {
    "collapsed": true
   },
   "outputs": [],
   "source": []
  }
 ],
 "metadata": {
  "kernelspec": {
   "display_name": "Python 2",
   "language": "python",
   "name": "python2"
  },
  "language_info": {
   "codemirror_mode": {
    "name": "ipython",
    "version": 2
   },
   "file_extension": ".py",
   "mimetype": "text/x-python",
   "name": "python",
   "nbconvert_exporter": "python",
   "pygments_lexer": "ipython2",
   "version": "2.7.6"
  }
 },
 "nbformat": 4,
 "nbformat_minor": 2
}
