{
 "cells": [
  {
   "cell_type": "code",
   "execution_count": 1,
   "metadata": {
    "collapsed": true
   },
   "outputs": [],
   "source": [
    "import numpy\n",
    "from scipy import ndimage\n",
    "from skimage import io, feature, color\n",
    "from skimage.filters import roberts, sobel, scharr, prewitt\n",
    "import datetime\n",
    "import matplotlib.pyplot as plt\n",
    "import matplotlib.image as mpimg\n",
    "import matplotlib.gridspec as gridspec\n",
    "from matplotlib.colors import ListedColormap\n",
    "from matplotlib.colors import Normalize\n",
    "from matplotlib import ticker\n",
    "from matplotlib.dates import date2num, DateFormatter\n",
    "from matplotlib.backends.backend_pdf import PdfPages\n",
    "%matplotlib inline\n",
    "# import the sd-data overlay module\n",
    "import os"
   ]
  },
  {
   "cell_type": "code",
   "execution_count": 2,
   "metadata": {
    "collapsed": true
   },
   "outputs": [],
   "source": [
    "utDtCnv = 6 # hours\n",
    "pltImgTimeList = [ datetime.datetime(2016,7,25, 5, 51, 48), \\\n",
    "                  datetime.datetime(2016,7,25, 5, 55, 50),\\\n",
    "                  datetime.datetime(2016,7,25, 6, 0, 51),\\\n",
    "                  datetime.datetime(2016,7,25, 6, 3, 51),\\\n",
    "                  datetime.datetime(2016,7,25, 6, 7, 20),\\\n",
    "                 datetime.datetime(2016,7,25, 6, 9, 41) ]"
   ]
  },
  {
   "cell_type": "code",
   "execution_count": 3,
   "metadata": {
    "collapsed": true
   },
   "outputs": [],
   "source": [
    "steveImgDir = \"/home/bharat/Documents/steve-imgs/\"\n",
    "imgFileDict = {}\n",
    "utDateList = []\n",
    "for root, dirs, files in os.walk(steveImgDir):\n",
    "    for fName in files:\n",
    "        if \".jpg\" not in fName:\n",
    "            continue\n",
    "        flDtSrc = fName.split(\".jpg\")[0]\n",
    "        flDtList = [ int(x) for x in flDtSrc.split(\"-\")[1:] ]\n",
    "        currHour = flDtList[3]/10000\n",
    "        currMin = (flDtList[3] - currHour*10000)/100\n",
    "        currSec = flDtList[3] - currHour*10000 - currMin*100\n",
    "        currDtObj =datetime.datetime( flDtList[0],\\\n",
    "                            flDtList[1], flDtList[2], currHour,\\\n",
    "                            currMin, currSec)\n",
    "        currUtTime = currDtObj + datetime.timedelta(hours=utDtCnv)\n",
    "        utDateList.append( currUtTime )\n",
    "        imgFileDict[currUtTime] = root + \"/\" + fName"
   ]
  },
  {
   "cell_type": "code",
   "execution_count": 4,
   "metadata": {},
   "outputs": [],
   "source": [
    "# img = io.imread( imgFileDict[imgFileDict.keys()[10]] )\n",
    "# plt.imshow(img)"
   ]
  },
  {
   "cell_type": "code",
   "execution_count": 5,
   "metadata": {},
   "outputs": [],
   "source": [
    "# fig, (ax1, ax2, ax3, ax4, ax5, ax6) = plt.subplots(nrows=2, ncols=3,\\\n",
    "#                           sharex=True, sharey=True)\n",
    "# for nim, imTm in enumerate(pltImgTimeList):\n",
    "#     img = io.imread( imgFileDict[imTm] )\n",
    "#     print axArr.shape\n",
    "#     axArr[nim].imshow(img)\n",
    "#     axArr[nim].axis('off')\n",
    "#     title = imTm.strftime(\"%H%M%S\")\n",
    "#     axArr[nim].set_title( title )"
   ]
  },
  {
   "cell_type": "code",
   "execution_count": 6,
   "metadata": {},
   "outputs": [
    {
     "ename": "SyntaxError",
     "evalue": "invalid syntax (<ipython-input-6-2073e8f8b0a9>, line 6)",
     "output_type": "error",
     "traceback": [
      "\u001b[0;36m  File \u001b[0;32m\"<ipython-input-6-2073e8f8b0a9>\"\u001b[0;36m, line \u001b[0;32m6\u001b[0m\n\u001b[0;31m    plt.title( pltImgTimeList[imTm-1].strftime(\"%H:%M:%S\" UT) )\u001b[0m\n\u001b[0m                                                           ^\u001b[0m\n\u001b[0;31mSyntaxError\u001b[0m\u001b[0;31m:\u001b[0m invalid syntax\n"
     ]
    }
   ],
   "source": [
    "for imTm in range(1, 7):\n",
    "    plt.subplot(2, 3, imTm)\n",
    "    img = io.imread( imgFileDict[pltImgTimeList[imTm-1]] )\n",
    "    plt.imshow(img)\n",
    "    plt.axis('off')\n",
    "    plt.title( pltImgTimeList[imTm-1].strftime(\"%H:%M:%S\" + \" UT\" ) )\n",
    "plt.savefig(\"../plots/steve-imgs.pdf\")"
   ]
  },
  {
   "cell_type": "code",
   "execution_count": null,
   "metadata": {
    "collapsed": true
   },
   "outputs": [],
   "source": []
  }
 ],
 "metadata": {
  "kernelspec": {
   "display_name": "Python 2",
   "language": "python",
   "name": "python2"
  },
  "language_info": {
   "codemirror_mode": {
    "name": "ipython",
    "version": 2
   },
   "file_extension": ".py",
   "mimetype": "text/x-python",
   "name": "python",
   "nbconvert_exporter": "python",
   "pygments_lexer": "ipython2",
   "version": "2.7.6"
  }
 },
 "nbformat": 4,
 "nbformat_minor": 2
}
