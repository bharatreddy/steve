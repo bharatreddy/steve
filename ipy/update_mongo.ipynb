{
 "cells": [
  {
   "cell_type": "code",
   "execution_count": null,
   "metadata": {},
   "outputs": [],
   "source": [
    "import davitpy.pydarn.sdio.dbUtils as db\n",
    "from davitpy import rcParams\n",
    "import datetime as dt\n",
    "import os\n",
    "import sys\n",
    "module_path = os.path.abspath(os.path.join('../py/'))\n",
    "if module_path not in sys.path:\n",
    "    sys.path.append(module_path)\n",
    "import ae"
   ]
  },
  {
   "cell_type": "code",
   "execution_count": null,
   "metadata": {
    "collapsed": true
   },
   "outputs": [],
   "source": [
    "sYear = 2016\n",
    "eYear = 2016\n",
    "res = 1"
   ]
  },
  {
   "cell_type": "code",
   "execution_count": null,
   "metadata": {},
   "outputs": [],
   "source": [
    "mongoData = db.getDataConn(username=\"sd_dbwrite\",password=\"more_dbwrite\",\\\n",
    "                dbAddress=\"sd-work9.ece.vt.edu:27017\",dbName='gme',collName='ae')\n",
    "#set up all of the indices\n",
    "mongoData.ensure_index('time')\n",
    "mongoData.ensure_index('ae')\n",
    "mongoData.ensure_index('al')\n",
    "mongoData.ensure_index('au')\n",
    "mongoData.ensure_index('ao')\n",
    "mongoData.ensure_index('res')"
   ]
  },
  {
   "cell_type": "code",
   "execution_count": null,
   "metadata": {},
   "outputs": [],
   "source": [
    "for yr in range(sYear,eYear+1):\n",
    "        #1 day at a time, to not fill up RAM\n",
    "        templist = ae.readAeWeb(dt.datetime(yr,1,1),dt.datetime(yr,1,1)+dt.timedelta(days=366),res=res)\n",
    "        if(templist == None): continue\n",
    "        for rec in templist:\n",
    "            #check if a duplicate record exists\n",
    "            qry = mongoData.find({'$and':[{'time': rec.time}, {'res': rec.res}]})\n",
    "            print rec.time\n",
    "            tempRec = rec.toDbDict()\n",
    "            cnt = qry.count()\n",
    "            #if this is a new record, insert it\n",
    "            if(cnt == 0): mongoData.insert(tempRec)\n",
    "            #if this is an existing record, update it\n",
    "            elif(cnt == 1):\n",
    "                print 'foundone!!'\n",
    "                dbDict = qry.next()\n",
    "                temp = dbDict['_id']\n",
    "                dbDict = tempRec\n",
    "                dbDict['_id'] = temp\n",
    "                mongoData.save(dbDict)\n",
    "            else:\n",
    "                print 'strange, there is more than 1 AE record for ' + rec.time\n",
    "del templist"
   ]
  },
  {
   "cell_type": "code",
   "execution_count": null,
   "metadata": {
    "collapsed": true
   },
   "outputs": [],
   "source": []
  }
 ],
 "metadata": {
  "kernelspec": {
   "display_name": "Python 2",
   "language": "python",
   "name": "python2"
  },
  "language_info": {
   "codemirror_mode": {
    "name": "ipython",
    "version": 2
   },
   "file_extension": ".py",
   "mimetype": "text/x-python",
   "name": "python",
   "nbconvert_exporter": "python",
   "pygments_lexer": "ipython2",
   "version": "2.7.6"
  }
 },
 "nbformat": 4,
 "nbformat_minor": 2
}
