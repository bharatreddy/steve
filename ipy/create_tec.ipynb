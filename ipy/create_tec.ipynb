{
 "cells": [
  {
   "cell_type": "code",
   "execution_count": 1,
   "metadata": {
    "collapsed": true
   },
   "outputs": [],
   "source": [
    "import pandas\n",
    "import datetime\n",
    "import feather\n",
    "import numpy\n",
    "from aacgmv2 import convert_mlt"
   ]
  },
  {
   "cell_type": "code",
   "execution_count": 2,
   "metadata": {
    "collapsed": true
   },
   "outputs": [],
   "source": [
    "eventDate = datetime.datetime(2016,7,25)\n",
    "dateLimList = [ datetime.datetime(2016,7,25,2,0),\\\n",
    "                 datetime.datetime(2016,7,25,8,0) ]"
   ]
  },
  {
   "cell_type": "code",
   "execution_count": 3,
   "metadata": {
    "collapsed": true
   },
   "outputs": [],
   "source": [
    "def convert_to_datetime(row):\n",
    "    currDateStr = str( int( row[\"dateStr\"] ) )\n",
    "#     return currDateStr\n",
    "    if row[\"timeStr\"] < 10:\n",
    "        currTimeStr = \"000\" + str( int( row[\"timeStr\"] ) )\n",
    "    elif row[\"timeStr\"] < 100:\n",
    "        currTimeStr = \"00\" + str( int( row[\"timeStr\"] ) )\n",
    "    elif row[\"timeStr\"] < 1000:\n",
    "        currTimeStr = \"0\" + str( int( row[\"timeStr\"] ) )\n",
    "    else:\n",
    "        currTimeStr = str( int( row[\"timeStr\"] ) )\n",
    "    return datetime.datetime.strptime( currDateStr\\\n",
    "                    + \":\" + currTimeStr, \"%Y%m%d:%H%M\" )"
   ]
  },
  {
   "cell_type": "code",
   "execution_count": 4,
   "metadata": {},
   "outputs": [
    {
     "data": {
      "text/html": [
       "<div>\n",
       "<style scoped>\n",
       "    .dataframe tbody tr th:only-of-type {\n",
       "        vertical-align: middle;\n",
       "    }\n",
       "\n",
       "    .dataframe tbody tr th {\n",
       "        vertical-align: top;\n",
       "    }\n",
       "\n",
       "    .dataframe thead th {\n",
       "        text-align: right;\n",
       "    }\n",
       "</style>\n",
       "<table border=\"1\" class=\"dataframe\">\n",
       "  <thead>\n",
       "    <tr style=\"text-align: right;\">\n",
       "      <th></th>\n",
       "      <th>dateStr</th>\n",
       "      <th>timeStr</th>\n",
       "      <th>Mlat</th>\n",
       "      <th>Mlon</th>\n",
       "      <th>med_tec</th>\n",
       "      <th>dlat</th>\n",
       "      <th>dlon</th>\n",
       "      <th>date</th>\n",
       "      <th>MLT</th>\n",
       "    </tr>\n",
       "  </thead>\n",
       "  <tbody>\n",
       "    <tr>\n",
       "      <th>157460</th>\n",
       "      <td>20160725</td>\n",
       "      <td>200</td>\n",
       "      <td>11.0</td>\n",
       "      <td>0.0</td>\n",
       "      <td>3.1</td>\n",
       "      <td>1.0</td>\n",
       "      <td>2.0</td>\n",
       "      <td>2016-07-25 02:00:00</td>\n",
       "      <td>21.165544</td>\n",
       "    </tr>\n",
       "    <tr>\n",
       "      <th>157461</th>\n",
       "      <td>20160725</td>\n",
       "      <td>200</td>\n",
       "      <td>11.0</td>\n",
       "      <td>2.0</td>\n",
       "      <td>2.7</td>\n",
       "      <td>1.0</td>\n",
       "      <td>2.0</td>\n",
       "      <td>2016-07-25 02:00:00</td>\n",
       "      <td>21.298877</td>\n",
       "    </tr>\n",
       "    <tr>\n",
       "      <th>157462</th>\n",
       "      <td>20160725</td>\n",
       "      <td>200</td>\n",
       "      <td>11.0</td>\n",
       "      <td>4.0</td>\n",
       "      <td>2.3</td>\n",
       "      <td>1.0</td>\n",
       "      <td>2.0</td>\n",
       "      <td>2016-07-25 02:00:00</td>\n",
       "      <td>21.432210</td>\n",
       "    </tr>\n",
       "    <tr>\n",
       "      <th>157463</th>\n",
       "      <td>20160725</td>\n",
       "      <td>200</td>\n",
       "      <td>11.0</td>\n",
       "      <td>6.0</td>\n",
       "      <td>2.7</td>\n",
       "      <td>1.0</td>\n",
       "      <td>2.0</td>\n",
       "      <td>2016-07-25 02:00:00</td>\n",
       "      <td>21.565544</td>\n",
       "    </tr>\n",
       "    <tr>\n",
       "      <th>157464</th>\n",
       "      <td>20160725</td>\n",
       "      <td>200</td>\n",
       "      <td>11.0</td>\n",
       "      <td>8.0</td>\n",
       "      <td>2.7</td>\n",
       "      <td>1.0</td>\n",
       "      <td>2.0</td>\n",
       "      <td>2016-07-25 02:00:00</td>\n",
       "      <td>21.698877</td>\n",
       "    </tr>\n",
       "  </tbody>\n",
       "</table>\n",
       "</div>"
      ],
      "text/plain": [
       "         dateStr  timeStr  Mlat  Mlon  med_tec  dlat  dlon  \\\n",
       "157460  20160725      200  11.0   0.0      3.1   1.0   2.0   \n",
       "157461  20160725      200  11.0   2.0      2.7   1.0   2.0   \n",
       "157462  20160725      200  11.0   4.0      2.3   1.0   2.0   \n",
       "157463  20160725      200  11.0   6.0      2.7   1.0   2.0   \n",
       "157464  20160725      200  11.0   8.0      2.7   1.0   2.0   \n",
       "\n",
       "                      date        MLT  \n",
       "157460 2016-07-25 02:00:00  21.165544  \n",
       "157461 2016-07-25 02:00:00  21.298877  \n",
       "157462 2016-07-25 02:00:00  21.432210  \n",
       "157463 2016-07-25 02:00:00  21.565544  \n",
       "157464 2016-07-25 02:00:00  21.698877  "
      ]
     },
     "execution_count": 4,
     "metadata": {},
     "output_type": "execute_result"
    }
   ],
   "source": [
    "inpColList = [ \"dateStr\", \"timeStr\", \"Mlat\",\\\n",
    "              \"Mlon\", \"med_tec\", \"dlat\", \"dlon\" ]\n",
    "inpFile = \"../data/tec-medFilt-\" + eventDate.strftime(\"%Y%m%d\") + \".txt\"\n",
    "medFiltTECDF = pandas.read_csv(inpFile, delim_whitespace=True,\\\n",
    "                                    header=None, names=inpColList)\n",
    "medFiltTECDF[\"date\"] = medFiltTECDF.apply( convert_to_datetime, axis=1 )\n",
    "medFiltTECDF = medFiltTECDF[ (medFiltTECDF[\"date\"] >= dateLimList[0]) &\\\n",
    "                    (medFiltTECDF[\"date\"] <= dateLimList[1] ) ]\n",
    "medFiltTECDF[\"MLT\"] = [ convert_mlt( mlon, ts , m2a=False ) \\\n",
    "                       for (mlon,ts) in zip(medFiltTECDF[\"Mlon\"],\\\n",
    "                                            medFiltTECDF[\"date\"]) ]\n",
    "\n",
    "feather.write_dataframe( medFiltTECDF, \"../data/tec-mf-\" +\\\n",
    "                        dateLimList[0].strftime(\"%Y%m%d\") + \".feather\" )\n",
    "medFiltTECDF.head()"
   ]
  },
  {
   "cell_type": "code",
   "execution_count": null,
   "metadata": {
    "collapsed": true
   },
   "outputs": [],
   "source": []
  }
 ],
 "metadata": {
  "kernelspec": {
   "display_name": "Python 2",
   "language": "python",
   "name": "python2"
  },
  "language_info": {
   "codemirror_mode": {
    "name": "ipython",
    "version": 2
   },
   "file_extension": ".py",
   "mimetype": "text/x-python",
   "name": "python",
   "nbconvert_exporter": "python",
   "pygments_lexer": "ipython2",
   "version": "2.7.6"
  }
 },
 "nbformat": 4,
 "nbformat_minor": 2
}
