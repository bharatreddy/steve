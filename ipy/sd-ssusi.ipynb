{
 "cells": [
  {
   "cell_type": "code",
   "execution_count": 1,
   "metadata": {},
   "outputs": [
    {
     "name": "stderr",
     "output_type": "stream",
     "text": [
      "/usr/local/lib/python2.7/dist-packages/matplotlib/__init__.py:1401: UserWarning:  This call to matplotlib.use() has no effect\n",
      "because the backend has already been chosen;\n",
      "matplotlib.use() must be called *before* pylab, matplotlib.pyplot,\n",
      "or matplotlib.backends is imported for the first time.\n",
      "\n",
      "  warnings.warn(_use_error_msg)\n"
     ]
    }
   ],
   "source": [
    "import pandas\n",
    "import datetime\n",
    "import feather\n",
    "import numpy\n",
    "import scipy.optimize\n",
    "import seaborn as sns\n",
    "from davitpy import utils\n",
    "from imagers.ssusi import ssusi_utils\n",
    "import matplotlib.pyplot as plt\n",
    "from matplotlib.colors import ListedColormap\n",
    "from matplotlib.colors import Normalize\n",
    "from matplotlib import ticker\n",
    "from matplotlib.dates import date2num, DateFormatter\n",
    "%matplotlib inline\n",
    "# import the sd-data overlay module\n",
    "import os\n",
    "import sys\n",
    "module_path = os.path.abspath(os.path.join('../py/'))\n",
    "if module_path not in sys.path:\n",
    "    sys.path.append(module_path)\n",
    "import sd_scan_muh"
   ]
  },
  {
   "cell_type": "code",
   "execution_count": 2,
   "metadata": {
    "collapsed": true
   },
   "outputs": [],
   "source": [
    "# Some constants\n",
    "eventDate = datetime.datetime(2011, 7, 5)#datetime.datetime(2011,5,16)\n",
    "timeStart = datetime.datetime(2011, 7, 5, 3, 0)#datetime.datetime(2011,5,16,7,0)\n",
    "timeEnd = datetime.datetime(2011, 7, 5,7, 0)#datetime.datetime(2011,5,16,10,0)\n",
    "sapsTime = datetime.datetime(2011, 7, 5, 4, 30)#datetime.datetime(2011,5,16,8,36)\n",
    "# SD plot variables\n",
    "sapsRadList = [ \"cvw\", \"cve\",\"fhw\",\\\n",
    "               \"fhe\", \"bks\", \"wal\" ]#[ \"cvw\" ]\n",
    "sddata_type = \"raw_los\" \n",
    "selBeam = 9\n",
    "sapsMlatRange = [ 50., 62. ]#[ 56., 60. ]\n",
    "sapsVelCutoff = 50.\n",
    "sapsNpointsCutoff = 50 # per radar per beam\n",
    "velScale = [ -500, 500 ]\n",
    "# SSUSI plot variables\n",
    "ssusiDir = \"../data/dmsp/ssusi/prcsd/\" # Make sure you have this dir or create it\n",
    "ssusiTime = datetime.datetime( 2011, 7, 5, 4, 30 )\n",
    "coords=\"mlt\"\n",
    "satList = [\"F18\" ]"
   ]
  },
  {
   "cell_type": "code",
   "execution_count": 3,
   "metadata": {},
   "outputs": [
    {
     "data": {
      "text/html": [
       "<div>\n",
       "<style scoped>\n",
       "    .dataframe tbody tr th:only-of-type {\n",
       "        vertical-align: middle;\n",
       "    }\n",
       "\n",
       "    .dataframe tbody tr th {\n",
       "        vertical-align: top;\n",
       "    }\n",
       "\n",
       "    .dataframe thead th {\n",
       "        text-align: right;\n",
       "    }\n",
       "</style>\n",
       "<table border=\"1\" class=\"dataframe\">\n",
       "  <thead>\n",
       "    <tr style=\"text-align: right;\">\n",
       "      <th></th>\n",
       "      <th>dateStr</th>\n",
       "      <th>timeStr</th>\n",
       "      <th>beam</th>\n",
       "      <th>range</th>\n",
       "      <th>azimCalcMag</th>\n",
       "      <th>vLos</th>\n",
       "      <th>MLAT</th>\n",
       "      <th>MLON</th>\n",
       "      <th>MLT</th>\n",
       "      <th>GLAT</th>\n",
       "      <th>GLON</th>\n",
       "      <th>radId</th>\n",
       "      <th>radCode</th>\n",
       "      <th>date</th>\n",
       "      <th>normMLT</th>\n",
       "    </tr>\n",
       "  </thead>\n",
       "  <tbody>\n",
       "    <tr>\n",
       "      <th>0</th>\n",
       "      <td>20110705</td>\n",
       "      <td>300</td>\n",
       "      <td>0</td>\n",
       "      <td>0</td>\n",
       "      <td>-7.8204</td>\n",
       "      <td>21.1500</td>\n",
       "      <td>39.2439</td>\n",
       "      <td>-145.2032</td>\n",
       "      <td>12.4690</td>\n",
       "      <td>44.3894</td>\n",
       "      <td>143.4903</td>\n",
       "      <td>40</td>\n",
       "      <td>hok</td>\n",
       "      <td>2011-07-05 03:00:00</td>\n",
       "      <td>-11.5310</td>\n",
       "    </tr>\n",
       "    <tr>\n",
       "      <th>1</th>\n",
       "      <td>20110705</td>\n",
       "      <td>300</td>\n",
       "      <td>0</td>\n",
       "      <td>1</td>\n",
       "      <td>-4.6284</td>\n",
       "      <td>18.5725</td>\n",
       "      <td>39.7470</td>\n",
       "      <td>-145.0795</td>\n",
       "      <td>12.4772</td>\n",
       "      <td>44.9081</td>\n",
       "      <td>143.6445</td>\n",
       "      <td>40</td>\n",
       "      <td>hok</td>\n",
       "      <td>2011-07-05 03:00:00</td>\n",
       "      <td>-11.5228</td>\n",
       "    </tr>\n",
       "    <tr>\n",
       "      <th>2</th>\n",
       "      <td>20110705</td>\n",
       "      <td>300</td>\n",
       "      <td>0</td>\n",
       "      <td>2</td>\n",
       "      <td>-2.9119</td>\n",
       "      <td>19.8473</td>\n",
       "      <td>40.1949</td>\n",
       "      <td>-144.9959</td>\n",
       "      <td>12.4828</td>\n",
       "      <td>45.3684</td>\n",
       "      <td>143.7537</td>\n",
       "      <td>40</td>\n",
       "      <td>hok</td>\n",
       "      <td>2011-07-05 03:00:00</td>\n",
       "      <td>-11.5172</td>\n",
       "    </tr>\n",
       "    <tr>\n",
       "      <th>3</th>\n",
       "      <td>20110705</td>\n",
       "      <td>300</td>\n",
       "      <td>0</td>\n",
       "      <td>3</td>\n",
       "      <td>-1.7818</td>\n",
       "      <td>5.4916</td>\n",
       "      <td>40.6224</td>\n",
       "      <td>-144.9279</td>\n",
       "      <td>12.4874</td>\n",
       "      <td>45.8067</td>\n",
       "      <td>143.8465</td>\n",
       "      <td>40</td>\n",
       "      <td>hok</td>\n",
       "      <td>2011-07-05 03:00:00</td>\n",
       "      <td>-11.5126</td>\n",
       "    </tr>\n",
       "    <tr>\n",
       "      <th>4</th>\n",
       "      <td>20110705</td>\n",
       "      <td>300</td>\n",
       "      <td>0</td>\n",
       "      <td>4</td>\n",
       "      <td>-0.9696</td>\n",
       "      <td>-0.8002</td>\n",
       "      <td>41.0394</td>\n",
       "      <td>-144.8684</td>\n",
       "      <td>12.4913</td>\n",
       "      <td>46.2334</td>\n",
       "      <td>143.9308</td>\n",
       "      <td>40</td>\n",
       "      <td>hok</td>\n",
       "      <td>2011-07-05 03:00:00</td>\n",
       "      <td>-11.5087</td>\n",
       "    </tr>\n",
       "  </tbody>\n",
       "</table>\n",
       "</div>"
      ],
      "text/plain": [
       "    dateStr  timeStr  beam  range  azimCalcMag     vLos     MLAT      MLON  \\\n",
       "0  20110705      300     0      0      -7.8204  21.1500  39.2439 -145.2032   \n",
       "1  20110705      300     0      1      -4.6284  18.5725  39.7470 -145.0795   \n",
       "2  20110705      300     0      2      -2.9119  19.8473  40.1949 -144.9959   \n",
       "3  20110705      300     0      3      -1.7818   5.4916  40.6224 -144.9279   \n",
       "4  20110705      300     0      4      -0.9696  -0.8002  41.0394 -144.8684   \n",
       "\n",
       "       MLT     GLAT      GLON  radId radCode                date  normMLT  \n",
       "0  12.4690  44.3894  143.4903     40     hok 2011-07-05 03:00:00 -11.5310  \n",
       "1  12.4772  44.9081  143.6445     40     hok 2011-07-05 03:00:00 -11.5228  \n",
       "2  12.4828  45.3684  143.7537     40     hok 2011-07-05 03:00:00 -11.5172  \n",
       "3  12.4874  45.8067  143.8465     40     hok 2011-07-05 03:00:00 -11.5126  \n",
       "4  12.4913  46.2334  143.9308     40     hok 2011-07-05 03:00:00 -11.5087  "
      ]
     },
     "execution_count": 3,
     "metadata": {},
     "output_type": "execute_result"
    }
   ],
   "source": [
    "# read velocities from the feather file\n",
    "velsDF = feather.read_dataframe('../data/saps-' +\\\n",
    "                eventDate.strftime(\"%Y%m%d\") + '.feather')\n",
    "velsDF.head()"
   ]
  },
  {
   "cell_type": "code",
   "execution_count": 4,
   "metadata": {},
   "outputs": [
    {
     "name": "stdout",
     "output_type": "stream",
     "text": [
      "reading data from---> ../data/dmsp/ssusi/prcsd/F18/20110705.txt\n",
      "reading data from---> ../data/dmsp/ssusi/prcsd/F17/20110705.txt\n",
      "reading data from---> ../data/dmsp/ssusi/prcsd/F16/20110705.txt\n"
     ]
    }
   ],
   "source": [
    "# Read SSUSI data\n",
    "ssObj = ssusi_utils.UtilsSsusi( ssusiDir, eventDate )\n",
    "fDict = ssObj.filter_data_by_time(ssusiTime, timeDelta=40.)"
   ]
  },
  {
   "cell_type": "code",
   "execution_count": null,
   "metadata": {},
   "outputs": [
    {
     "name": "stderr",
     "output_type": "stream",
     "text": [
      "WARNING:root:setting dateTime to datetime\n"
     ]
    },
    {
     "name": "stdout",
     "output_type": "stream",
     "text": [
      "2011-07-05 04:30:00 2011-07-05 04:32:00\n",
      "2011-07-05 04:30:00 2011-07-05 04:32:00\n",
      "2011-07-05 04:30:00 2011-07-05 04:32:00\n"
     ]
    },
    {
     "name": "stderr",
     "output_type": "stream",
     "text": [
      "WARNING:root:cannot access [data/2011/lmfit/bks/]\n",
      "WARNING:root:cannot access [data/2010/lmfit/bks/]\n",
      "ERROR:root:Sorry, we could not find any data for you :(\n",
      "WARNING:root:Accuracy on height calculation (5.0) not reached quick enough. Returning nan, nan.\n",
      "WARNING:root:Accuracy on height calculation (5.0) not reached quick enough. Returning nan, nan.\n",
      "WARNING:root:Accuracy on height calculation (5.0) not reached quick enough. Returning nan, nan.\n",
      "WARNING:root:Accuracy on height calculation (5.0) not reached quick enough. Returning nan, nan.\n",
      "ERROR:root:Your pointer does not point to any data\n"
     ]
    }
   ],
   "source": [
    "\n",
    "# PLOT DATA\n",
    "fig = plt.figure(figsize=(12, 8))\n",
    "ax = fig.add_subplot(1,1,1)\n",
    "m = utils.plotUtils.mapObj( coords=coords,\\\n",
    "                           lat_0=70., lon_0=-60, width=111e3*120,\\\n",
    "                           height=111e3*55, datetime=sapsTime)\n",
    "\n",
    "# Overlay SD data\n",
    "velSeaMap = ListedColormap( sns.color_palette(\"coolwarm\") )\n",
    "obj = sd_scan_muh.sdvel_on_map(m, ax, sapsRadList, sapsTime)\n",
    "colNorm = Normalize( vmin=velScale[0], vmax=velScale[1] )\n",
    "obj.overlay_raw_data(param=\"velocity\", gsct=1,\\\n",
    "                     fill=True, vel_lim=velScale,\\\n",
    "                     zorder=4, cmap=velSeaMap, norm=colNorm, alpha=0.8)\n",
    "#Overlay SSUSI data\n",
    "ssObj.overlay_sat_data( fDict, m, ax, satList=satList,\\\n",
    "         inpTime=ssusiTime, vmin=0., vmax=2000.,\\\n",
    "            autoScale=False, coords=coords,alpha=0.3, plotCBar=False )\n",
    "fig.savefig(\"../plots/sd-ssusi-\" +\\\n",
    "            sapsTime.strftime(\"%Y%m%d\") +\\\n",
    "            \".pdf\" ,bbox_inches='tight')"
   ]
  },
  {
   "cell_type": "code",
   "execution_count": null,
   "metadata": {
    "collapsed": true
   },
   "outputs": [],
   "source": [
    "ssObj.overlay_sat_data()"
   ]
  }
 ],
 "metadata": {
  "kernelspec": {
   "display_name": "Python 2",
   "language": "python",
   "name": "python2"
  },
  "language_info": {
   "codemirror_mode": {
    "name": "ipython",
    "version": 2
   },
   "file_extension": ".py",
   "mimetype": "text/x-python",
   "name": "python",
   "nbconvert_exporter": "python",
   "pygments_lexer": "ipython2",
   "version": "2.7.6"
  }
 },
 "nbformat": 4,
 "nbformat_minor": 2
}
