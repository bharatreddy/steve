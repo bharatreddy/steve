{
 "cells": [
  {
   "cell_type": "code",
   "execution_count": 1,
   "metadata": {
    "collapsed": true
   },
   "outputs": [],
   "source": [
    "import pandas\n",
    "import feather\n",
    "import datetime\n",
    "import numpy"
   ]
  },
  {
   "cell_type": "code",
   "execution_count": 2,
   "metadata": {
    "collapsed": true
   },
   "outputs": [],
   "source": [
    "def str_to_datetime(row):\n",
    "        # Given a datestr and a time string convert to a python datetime obj.\n",
    "        import datetime\n",
    "        datecolName=\"dateStr\"\n",
    "        timeColName=\"timeStr\"\n",
    "        currDateStr = str( int( row[datecolName] ) )\n",
    "    #     return currDateStr\n",
    "        if row[timeColName] < 10:\n",
    "            currTimeStr = \"000\" + str( int( row[timeColName] ) )\n",
    "        elif row[timeColName] < 100:\n",
    "            currTimeStr = \"00\" + str( int( row[timeColName] ) )\n",
    "        elif row[timeColName] < 1000:\n",
    "            currTimeStr = \"0\" + str( int( row[timeColName] ) )\n",
    "        else:\n",
    "            currTimeStr = str( int( row[timeColName] ) )\n",
    "        return datetime.datetime.strptime( currDateStr\\\n",
    "                        + \":\" + currTimeStr, \"%Y%m%d:%H%M\" )"
   ]
  },
  {
   "cell_type": "code",
   "execution_count": 3,
   "metadata": {},
   "outputs": [
    {
     "name": "stdout",
     "output_type": "stream",
     "text": [
      "20160725\n"
     ]
    }
   ],
   "source": [
    "# Currently we have the entire day of mid-latitude\n",
    "# SD velocities. To save space we'll just select\n",
    "# the time periods of SAPS and store them as feather\n",
    "# files. Will make it easy to use later...!\n",
    "# dateLimList = [ [ datetime.datetime(2011,5,16,7,0), datetime.datetime(2011,5,16,10,0) ],\n",
    "#               [ datetime.datetime(2011,5,2,5,0), datetime.datetime(2011,5,2,8,0) ],\n",
    "#               [ datetime.datetime(2011,6,8,3,0), datetime.datetime(2011,6,8,7,0) ] ]\n",
    "dateLimList = [ [ datetime.datetime(2016,7,25,2,0), datetime.datetime(2016,7,25,8,0) ] ]\n",
    "# Input col names for the dataframe\n",
    "inpColNames = [ \"dateStr\", \"timeStr\", \"beam\", \"range\",\\\n",
    "                 \"azimCalcMag\", \"vLos\", \"power\", \"spwdth\", \"MLAT\",\\\n",
    "                  \"MLON\", \"MLT\",  \"GLAT\", \"GLON\", \"radId\", \"radCode\"]\n",
    "\n",
    "for d in dateLimList:\n",
    "#     currFileName = \"../data/saps-vels-\" + d[0].strftime(\"%Y%m%d\") + \".txt\"\n",
    "    currFileName = \"../data/saps-vels-20160725.txt\"\n",
    "    print d[0].strftime(\"%Y%m%d\")\n",
    "    velsDataDF = pandas.read_csv(currFileName, delim_whitespace=True,\\\n",
    "                                     header=None, names=inpColNames)\n",
    "    # Add a datetime col\n",
    "    velsDataDF[\"date\"] = velsDataDF.apply( str_to_datetime, axis=1 )\n",
    "    # for some reason MLAT is a str type, convert it to float\n",
    "    velsDataDF[\"MLAT\"] = velsDataDF[\"MLAT\"].astype(float)\n",
    "    # Also get a normMLT for plotting\n",
    "    velsDataDF['normMLT'] = [x-24 if x >= 12 else x\\\n",
    "                     for x in velsDataDF['MLT']]\n",
    "    sapsDF = velsDataDF[ (velsDataDF[\"date\"] >= d[0]) &\\\n",
    "                    (velsDataDF[\"date\"] <= d[1] ) ]\n",
    "    feather.write_dataframe( sapsDF, \"../data/saps-vps-\" + d[0].strftime(\"%Y%m%d\") + \".feather\" )"
   ]
  },
  {
   "cell_type": "code",
   "execution_count": null,
   "metadata": {
    "collapsed": true
   },
   "outputs": [],
   "source": []
  }
 ],
 "metadata": {
  "kernelspec": {
   "display_name": "Python 2",
   "language": "python",
   "name": "python2"
  },
  "language_info": {
   "codemirror_mode": {
    "name": "ipython",
    "version": 2
   },
   "file_extension": ".py",
   "mimetype": "text/x-python",
   "name": "python",
   "nbconvert_exporter": "python",
   "pygments_lexer": "ipython2",
   "version": "2.7.6"
  }
 },
 "nbformat": 4,
 "nbformat_minor": 2
}
